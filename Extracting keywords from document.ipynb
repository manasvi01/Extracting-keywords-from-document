{
 "cells": [
  {
   "cell_type": "code",
   "execution_count": 50,
   "metadata": {},
   "outputs": [],
   "source": [
    "import nltk\n",
    "from nltk.corpus import stopwords\n",
    "import string\n",
    "fp=open(\"Java.txt\",\"r\")\n",
    "file=fp.read()"
   ]
  },
  {
   "cell_type": "code",
   "execution_count": 51,
   "metadata": {},
   "outputs": [],
   "source": [
    "def isPunct(word):\n",
    "    return len(word) == 1 and word in string.punctuation"
   ]
  },
  {
   "cell_type": "code",
   "execution_count": 52,
   "metadata": {},
   "outputs": [],
   "source": [
    "mylist1=[]\n",
    "mylist=nltk.word_tokenize(file)\n",
    "for i in mylist:\n",
    "    if isPunct(i):\n",
    "        mylist.remove(i)\n",
    "mylist1=list(filter(lambda x:len(x)>3,mylist))\n",
    "mylist1=[i.lower() for i in mylist1]"
   ]
  },
  {
   "cell_type": "code",
   "execution_count": 53,
   "metadata": {},
   "outputs": [
    {
     "data": {
      "text/plain": [
       "2218"
      ]
     },
     "execution_count": 53,
     "metadata": {},
     "output_type": "execute_result"
    }
   ],
   "source": [
    "len(mylist1)"
   ]
  },
  {
   "cell_type": "code",
   "execution_count": 61,
   "metadata": {},
   "outputs": [],
   "source": [
    "brack=[\"{\",\"}\",\"[\",\"]\",\"+\",\"=\",\"*\"]\n",
    "for i in mylist1:\n",
    "    for j in brack:\n",
    "        if j in i:\n",
    "            mylist1.remove(i)\n"
   ]
  },
  {
   "cell_type": "code",
   "execution_count": 62,
   "metadata": {},
   "outputs": [
    {
     "data": {
      "text/plain": [
       "1957"
      ]
     },
     "execution_count": 62,
     "metadata": {},
     "output_type": "execute_result"
    }
   ],
   "source": [
    "len(mylist1)"
   ]
  },
  {
   "cell_type": "code",
   "execution_count": 63,
   "metadata": {},
   "outputs": [],
   "source": [
    "stop = stopwords.words('english') \n",
    "for i in mylist1:\n",
    "    #i=i.lower()\n",
    "    if i in stop:\n",
    "        mylist1.remove(i)  \n",
    "        \n"
   ]
  },
  {
   "cell_type": "code",
   "execution_count": 64,
   "metadata": {},
   "outputs": [
    {
     "name": "stdout",
     "output_type": "stream",
     "text": [
      "[('java', 72), ('button', 43), ('data', 43), ('code', 38), ('applet', 29), ('class', 29), ('object', 27), ('method', 26), ('objects', 25), ('array', 25), ('string', 22), ('public', 22), ('example', 19), ('types', 15), ('return', 15), ('null', 15), ('language', 15), ('memory', 15), ('void', 14), ('primitive', 14), ('comments', 14), ('program', 12), ('browser', 12), ('garbage', 11), ('allocate', 11), ('pointer', 10), ('methods', 10), ('following', 10), ('applets', 10), ('stack', 10)]\n"
     ]
    }
   ],
   "source": [
    "all_words=nltk.FreqDist(mylist1)\n",
    "print(all_words.most_common(30))#TExtracting first 30 keywords\n",
    "fp.close()"
   ]
  },
  {
   "cell_type": "code",
   "execution_count": null,
   "metadata": {},
   "outputs": [],
   "source": []
  },
  {
   "cell_type": "code",
   "execution_count": null,
   "metadata": {},
   "outputs": [],
   "source": []
  }
 ],
 "metadata": {
  "kernelspec": {
   "display_name": "Python 3",
   "language": "python",
   "name": "python3"
  },
  "language_info": {
   "codemirror_mode": {
    "name": "ipython",
    "version": 3
   },
   "file_extension": ".py",
   "mimetype": "text/x-python",
   "name": "python",
   "nbconvert_exporter": "python",
   "pygments_lexer": "ipython3",
   "version": "3.5.3"
  }
 },
 "nbformat": 4,
 "nbformat_minor": 2
}
