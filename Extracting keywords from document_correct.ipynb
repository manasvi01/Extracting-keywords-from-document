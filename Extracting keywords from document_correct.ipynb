{
 "cells": [
  {
   "cell_type": "code",
   "execution_count": 50,
   "metadata": {},
   "outputs": [],
   "source": [
    "import nltk\n",
    "from nltk.corpus import stopwords\n",
    "import string\n",
    "fp=open(\"Java.txt\",\"r\")\n",
    "file=fp.read()"
   ]
  },
  {
   "cell_type": "code",
   "execution_count": 51,
   "metadata": {},
   "outputs": [],
   "source": [
    "def isPunct(word):\n",
    "    return len(word) == 1 and word in string.punctuation"
   ]
  },
  {
   "cell_type": "code",
   "execution_count": 52,
   "metadata": {},
   "outputs": [],
   "source": [
    "mylist1=[]\n",
    "mylist=nltk.word_tokenize(file)\n",
    "for i in mylist:\n",
    "    if isPunct(i):\n",
    "        mylist.remove(i)\n",
    "mylist1=list(filter(lambda x:len(x)>3,mylist))\n",
    "mylist1=[i.lower() for i in mylist1]"
   ]
  },
  {
   "cell_type": "code",
   "execution_count": 53,
   "metadata": {},
   "outputs": [
    {
     "data": {
      "text/plain": [
       "2218"
      ]
     },
     "execution_count": 53,
     "metadata": {},
     "output_type": "execute_result"
    }
   ],
   "source": [
    "len(mylist1)"
   ]
  },
  {
   "cell_type": "code",
   "execution_count": 61,
   "metadata": {},
   "outputs": [],
   "source": [
    "brack=[\"{\",\"}\",\"[\",\"]\",\"+\",\"=\",\"*\"]\n",
    "for i in mylist1:\n",
    "    for j in brack:\n",
    "        if j in i:\n",
    "            mylist1.remove(i)\n"
   ]
  },
  {
   "cell_type": "code",
   "execution_count": 62,
   "metadata": {},
   "outputs": [
    {
     "data": {
      "text/plain": [
       "1957"
      ]
     },
     "execution_count": 62,
     "metadata": {},
     "output_type": "execute_result"
    }
   ],
   "source": [
    "len(mylist1)"
   ]
  },
  {
   "cell_type": "code",
   "execution_count": 63,
   "metadata": {},
   "outputs": [],
   "source": [
    "stop = stopwords.words('english') \n",
    "for i in mylist1:\n",
    "    #i=i.lower()\n",
    "    if i in stop:\n",
    "        mylist1.remove(i)  \n",
    "        \n"
   ]
  },
  {
   "cell_type": "code",
   "execution_count": 70,
   "metadata": {},
   "outputs": [],
   "source": [
    "all_words=nltk.FreqDist(mylist1)\n",
    "tuple1=all_words.most_common(30)#TExtracting first 30 keywords\n",
    "fp.close()"
   ]
  },
  {
   "cell_type": "code",
   "execution_count": 72,
   "metadata": {},
   "outputs": [],
   "source": [
    "import csv\n",
    " \n",
    "myData = [[\"keyword\", \"frequency\"]]\n",
    "for i,j in tuple1:\n",
    "    myData.append([i,j])\n",
    "myFile = open('example2.csv', 'w')\n",
    "with myFile:\n",
    "    writer = csv.writer(myFile)\n",
    "    writer.writerows(myData)\n",
    "     "
   ]
  },
  {
   "cell_type": "code",
   "execution_count": null,
   "metadata": {},
   "outputs": [],
   "source": []
  },
  {
   "cell_type": "code",
   "execution_count": null,
   "metadata": {},
   "outputs": [],
   "source": []
  }
 ],
 "metadata": {
  "kernelspec": {
   "display_name": "Python 3",
   "language": "python",
   "name": "python3"
  },
  "language_info": {
   "codemirror_mode": {
    "name": "ipython",
    "version": 3
   },
   "file_extension": ".py",
   "mimetype": "text/x-python",
   "name": "python",
   "nbconvert_exporter": "python",
   "pygments_lexer": "ipython3",
   "version": "3.5.3"
  }
 },
 "nbformat": 4,
 "nbformat_minor": 2
}
